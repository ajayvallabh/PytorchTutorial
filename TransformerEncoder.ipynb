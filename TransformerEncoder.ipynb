{
  "nbformat": 4,
  "nbformat_minor": 0,
  "metadata": {
    "colab": {
      "provenance": [],
      "authorship_tag": "ABX9TyNyyh8sqnsv8G9M6FQx85yg",
      "include_colab_link": true
    },
    "kernelspec": {
      "name": "python3",
      "display_name": "Python 3"
    },
    "language_info": {
      "name": "python"
    }
  },
  "cells": [
    {
      "cell_type": "markdown",
      "metadata": {
        "id": "view-in-github",
        "colab_type": "text"
      },
      "source": [
        "<a href=\"https://colab.research.google.com/github/ajayvallabh/PytorchTutorial/blob/main/TransformerEncoder.ipynb\" target=\"_parent\"><img src=\"https://colab.research.google.com/assets/colab-badge.svg\" alt=\"Open In Colab\"/></a>"
      ]
    },
    {
      "cell_type": "code",
      "source": [
        "import torch\n",
        "import math\n",
        "from torch import nn\n",
        "import torch.nn.functional as F"
      ],
      "metadata": {
        "id": "GsZqdfoRKuE9"
      },
      "execution_count": null,
      "outputs": []
    },
    {
      "cell_type": "code",
      "source": [
        "def scaled_dot_product(q, k, v, mask=None):\n",
        "  # q,k,v = 30 x 8 x 200 x 64\n",
        "    d_k = q.size()[-1] # 64\n",
        "    scaled = torch.matmul(q, k.transpose(-1, -2)) / math.sqrt(d_k) # 30 x 8 x200 x200\n",
        "    print(f\"scaled.size() : {scaled.size()}\")\n",
        "    if mask is not None:\n",
        "        print(f\"-- ADDING MASK of shape {mask.size()} --\")\n",
        "       # 30 x 8 x200 x200        # Broadcasting add. So just the last N dimensions need to match\n",
        "        scaled += mask\n",
        "    attention = F.softmax(scaled, dim=-1) # 30 x 8 x200 x200\n",
        "    values = torch.matmul(attention, v) # 30 x 8 x200 x64\n",
        "    return values, attention"
      ],
      "metadata": {
        "id": "DrVoMJ74KxrN"
      },
      "execution_count": null,
      "outputs": []
    },
    {
      "cell_type": "code",
      "source": [
        "class MultiHeadAttention(nn.Module):\n",
        "\n",
        "    def __init__(self, d_model, num_heads):\n",
        "        super().__init__()\n",
        "        self.d_model = d_model # 512\n",
        "        self.num_heads = num_heads # 8\n",
        "        self.head_dim = d_model // num_heads # 64\n",
        "        self.qkv_layer = nn.Linear(d_model , 3 * d_model) # 512* 1536\n",
        "        self.linear_layer = nn.Linear(d_model, d_model) # 512* 512\n",
        "\n",
        "    def forward(self, x, mask=None):\n",
        "        batch_size, max_sequence_length, d_model = x.size() # 30x 200 x 512\n",
        "        print(f\"x.size(): {x.size()}\")\n",
        "        qkv = self.qkv_layer(x) # 30 x 200 x 1536\n",
        "        print(f\"qkv.size(): {qkv.size()}\")\n",
        "        qkv = qkv.reshape(batch_size, max_sequence_length, self.num_heads, 3 * self.head_dim) # 30 x 200 x 8 x 192\n",
        "        print(f\"qkv.size(): {qkv.size()}\")\n",
        "        qkv = qkv.permute(0, 2, 1, 3) # 30 x 200 x 8 x 192\n",
        "        print(f\"qkv.size(): {qkv.size()}\")\n",
        "        q, k, v = qkv.chunk(3, dim=-1) # each are 30 x 8 x 200 x 64\n",
        "        print(f\"q size: {q.size()}, k size: {k.size()}, v size: {v.size()}, \")\n",
        "        values, attention = scaled_dot_product(q, k, v, mask) # 30 x 8 x200 x200 ## # 30 x 8 x200 x 64\n",
        "        print(f\"values.size(): {values.size()}, attention.size:{ attention.size()} \")\n",
        "        values = values.reshape(batch_size, max_sequence_length, self.num_heads * self.head_dim) # 30 x200 x 512\n",
        "        print(f\"values.size(): {values.size()}\")\n",
        "        out = self.linear_layer(values)\n",
        "        print(f\"out.size(): {out.size()}\")\n",
        "        return out"
      ],
      "metadata": {
        "id": "-lDjnblJK0fa"
      },
      "execution_count": null,
      "outputs": []
    },
    {
      "cell_type": "code",
      "source": [
        "class LayerNormalization(nn.Module):\n",
        "    def __init__(self, parameters_shape, eps=1e-5):\n",
        "        super().__init__()\n",
        "        self.parameters_shape=parameters_shape # [512]\n",
        "        self.eps=eps\n",
        "        self.gamma = nn.Parameter(torch.ones(parameters_shape)) # [512]\n",
        "        self.beta =  nn.Parameter(torch.zeros(parameters_shape)) # [512]\n",
        "\n",
        "    def forward(self, inputs): # 30 x 200 x512\n",
        "        dims = [-(i + 1) for i in range(len(self.parameters_shape))] # [-1]\n",
        "        mean = inputs.mean(dim=dims, keepdim=True) # 30 x 200 x 1\n",
        "        print(f\"Mean ({mean.size()})\")\n",
        "        var = ((inputs - mean) ** 2).mean(dim=dims, keepdim=True) # 30 x 200 x 1\n",
        "        std = (var + self.eps).sqrt() # 300 x 200 x 1\n",
        "        print(f\"Standard Deviation  ({std.size()})\")\n",
        "        y = (inputs - mean) / std # 300 x 200 x 512\n",
        "        print(f\"y: {y.size()}\")\n",
        "        out = self.gamma * y  + self.beta # 300 x 200 x 512\n",
        "        print(f\"self.gamma: {self.gamma.size()}, self.beta: {self.beta.size()}\")\n",
        "        print(f\"out: {out.size()}\")\n",
        "        return out\n"
      ],
      "metadata": {
        "id": "1Lvx1FjYK8XU"
      },
      "execution_count": null,
      "outputs": []
    },
    {
      "cell_type": "code",
      "source": [
        "class PositionwiseFeed Forward(nn.Module):\n",
        "  def __init__(self, d_model, hidden, drop_prob = 0.1):\n",
        "    super(PositionwiseFeedForward, self).__init__()\n",
        "    self.linear1 = nn.Linear(d_model, hidden) # 512 x 2048\n",
        "    self.linear2 = nn.Linear(hidden, d_model) # 2048 x 512\n",
        "    self.relu = nn.ReLU()\n",
        "    self.dropout = nn.Dropout(p=drop_prob)\n",
        "\n",
        "\n",
        "  def forward(self, x): # 30 x 200 x 512\n",
        "    x = self.linear1(x) # 30 x 200 x 2048\n",
        "    x = self.relu(x) # 30 x 200 x 2048\n",
        "    x = self.dropout(x) # 30 x 200 x 2048\n",
        "    x = self.linear2(x) # 30 x 200 x 512\n",
        "    return x"
      ],
      "metadata": {
        "id": "DmwkVy97Qbwu"
      },
      "execution_count": null,
      "outputs": []
    },
    {
      "cell_type": "code",
      "source": [
        "\n",
        "class EncoderLayer(nn.Module):\n",
        "  def __init__(self, d_model, ffn_hidden, num_heads, drop_prob):\n",
        "    super(EncoderLayer, self).__init__()\n",
        "    self.attention = MultiHeadAttention(d_model = d_model, num_heads=num_heads)\n",
        "    self.norm1 = LayerNoramlization(parameters_shape =[d_model])\n",
        "    self.dropout1 = nn.Dropout(p=drop_prob)\n",
        "    self.ffn = PositionwiseFeedForward(d_model=d_model, hidden=ffn_hidden, drop_prob=drop_prob)\n",
        "    self.norm2 = LayerNormalization(parameters_shape= [d_model])\n",
        "    self.dropout2 = nn.Dropout(p=drop_prob)\n",
        "\n",
        "  def forward(self, x):\n",
        "    residual_x = x # 30 x 200 x 512\n",
        "    x = self.attention(x, mask= None) # 30 x 200 x 512\n",
        "    x = self.dropout1(x) # 30 x 200 x 512\n",
        "    x = self.norm1(x+residual_x) # 30 x 200 x 512\n",
        "    residual_x = x # 30 x 200 x 512\n",
        "    x = self.ffn(x) # 30 x 200 x 512\n",
        "    x = self.dropout2(x) # 30 x 200 x 512\n",
        "    x = self.norm2(x+residual_x) # 30 x 200 x 512\n",
        "    return x\n",
        "\n",
        "\n",
        "class Encoder(nn.Module):\n",
        "  def __init__(self, d_model, ffn_hiddne, num_heads, drop_prob, num_layers):\n",
        "    super().__init__()\n",
        "    self.layers = nn.Sequential(*[EncoderLayer(d_model, ffn_hiddne, num_heads, drop_prob, num_layers) for _ in range(num_layers)])\n",
        "\n",
        "  def forward(self, x):\n",
        "    x = self.layers(x)\n",
        "    return x"
      ],
      "metadata": {
        "id": "GcJdt8HlD6Cq"
      },
      "execution_count": null,
      "outputs": []
    },
    {
      "cell_type": "code",
      "execution_count": null,
      "metadata": {
        "id": "gz-4iKRJD0Yo"
      },
      "outputs": [],
      "source": [
        "d_model =512.  # Embeded token dimension\n",
        "num_heads = 8.  # split multi head attention in to 8 sub attentions\n",
        "drop_prob =0.1 # 10% drop for optmization and avoid overfitting or leaning\n",
        "batch_size = 30 # only 30 sentence allow in each batch\n",
        "max_sequence_length = 200 # largest number of words allow in the sentence\n",
        "ffn_hidden = 2048 # feed forward network\n",
        "num_layers = 5 # number of transformer layer or number of time input is repeated"
      ]
    },
    {
      "cell_type": "code",
      "source": [
        "encoder = Encoder(d_model, ffn_hidden, num_heads, drop_prob, num_layers)\n",
        "x = torch.randn((batch_size, max_sequence_length, d_model)) # include position\n",
        "out = encoder(x)"
      ],
      "metadata": {
        "id": "Z1KoHb1qUoTA"
      },
      "execution_count": null,
      "outputs": []
    }
  ]
}