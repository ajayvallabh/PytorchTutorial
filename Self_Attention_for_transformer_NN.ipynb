{
  "nbformat": 4,
  "nbformat_minor": 0,
  "metadata": {
    "colab": {
      "provenance": [],
      "authorship_tag": "ABX9TyNV6Z7DFY8TToCUPBManQO7",
      "include_colab_link": true
    },
    "kernelspec": {
      "name": "python3",
      "display_name": "Python 3"
    },
    "language_info": {
      "name": "python"
    }
  },
  "cells": [
    {
      "cell_type": "markdown",
      "metadata": {
        "id": "view-in-github",
        "colab_type": "text"
      },
      "source": [
        "<a href=\"https://colab.research.google.com/github/ajayvallabh/PytorchTutorial/blob/main/Self_Attention_for_transformer_NN.ipynb\" target=\"_parent\"><img src=\"https://colab.research.google.com/assets/colab-badge.svg\" alt=\"Open In Colab\"/></a>"
      ]
    },
    {
      "cell_type": "code",
      "execution_count": 1,
      "metadata": {
        "id": "9GtYl6VM0esU"
      },
      "outputs": [],
      "source": [
        "import numpy as np\n",
        "import math\n",
        "\n",
        "L, d_k, d_v =4, 8, 8 # Length of the input sequence, size of each of the vectors for illustrative purposes\n",
        "q = np.random.randn(L, d_k) # query vector\n",
        "k = np.random.randn(L, d_k) # key vector\n",
        "v = np.random.randn(L, d_v) # value vector"
      ]
    },
    {
      "cell_type": "code",
      "source": [
        "print(\"Q\\n\", q)\n",
        "print(\"K\\n\", k)\n",
        "print(\"V\\n\", v)"
      ],
      "metadata": {
        "colab": {
          "base_uri": "https://localhost:8080/"
        },
        "id": "fxC29ACu2AAk",
        "outputId": "386905e6-24cb-415b-ec1c-bd67c4c9f24b"
      },
      "execution_count": 2,
      "outputs": [
        {
          "output_type": "stream",
          "name": "stdout",
          "text": [
            "Q\n",
            " [[-0.97571141 -1.4084258   0.85765386  0.40328087 -1.68320015 -0.8114886\n",
            "  -1.1353064   3.81165462]\n",
            " [ 0.09256007 -1.43058551  0.92521313 -0.2665744   1.31792221 -0.71806688\n",
            "  -0.54201083  0.94766712]\n",
            " [ 0.0132578   0.47755363 -0.96212365 -1.22969531 -1.41255608  1.66327939\n",
            "   0.67350132 -1.34805729]\n",
            " [ 1.32986008  0.06187404  2.02623309 -0.87612554 -0.50228742 -0.55177263\n",
            "  -0.66013582  0.4795127 ]]\n",
            "K\n",
            " [[-0.14873684  0.59720768  0.75902317 -1.30181283  1.17149411 -0.18831046\n",
            "   0.33461812  0.73547018]\n",
            " [ 0.71418177 -0.26882076 -0.27493679 -0.92262498 -1.16459422  0.40400537\n",
            "   0.6396001   0.32118434]\n",
            " [-0.29410083 -1.21652305 -0.58847222  1.59742101  2.22622054 -0.84914317\n",
            "   0.46673953  0.02552858]\n",
            " [ 1.02317082 -1.39181225 -2.786326   -0.8405292  -1.56214675 -0.79065386\n",
            "   0.70711312  1.56023449]]\n",
            "V\n",
            " [[-1.13486929e+00  1.18551936e+00 -2.54745318e-01  1.78990235e+00\n",
            "  -4.25412134e-01 -9.64014589e-01 -5.03209525e-01  1.05096561e+00]\n",
            " [ 2.12045446e-04 -4.53228061e-01 -1.42572684e+00 -1.85376042e-01\n",
            "  -2.01398129e-01 -2.51592864e-01 -9.81643365e-01  2.82952560e-01]\n",
            " [-9.49979963e-02  1.05910358e+00 -7.49406825e-01 -4.05838775e-01\n",
            "  -6.45096240e-02  5.07776442e-01 -1.05352462e+00  7.87527046e-01]\n",
            " [ 7.11210917e-02  3.62111112e-01 -1.69676778e+00  3.23530535e-01\n",
            "  -5.73314611e-01 -1.74889925e+00 -1.59095416e+00  1.68237610e-02]]\n"
          ]
        }
      ]
    },
    {
      "cell_type": "markdown",
      "source": [
        "# Self Attention\n",
        "$$self attention = softmax(\\frac{Q.K^T}{\\sqrt{d_k}} + M)V$$"
      ],
      "metadata": {
        "id": "ZULX_k6J2pkR"
      }
    },
    {
      "cell_type": "code",
      "source": [
        "np.matmul(q, k.T)"
      ],
      "metadata": {
        "colab": {
          "base_uri": "https://localhost:8080/"
        },
        "id": "7gUY_Bzg2pPt",
        "outputId": "cbb615e3-a282-43e4-f78e-8377d3e4426d"
      },
      "execution_count": 3,
      "outputs": [
        {
          "output_type": "execute_result",
          "data": {
            "text/plain": [
              "array([[ 0.03440141,  1.20440227, -1.3508471 ,  6.64856945],\n",
              "       [ 2.3759363 , -1.42499295,  4.05776629, -0.66379624],\n",
              "       [-1.58031846,  3.59498803, -6.26010021,  2.32778273],\n",
              "       [ 2.16491349,  1.27820903, -4.00384618, -2.13251051]])"
            ]
          },
          "metadata": {},
          "execution_count": 3
        }
      ]
    },
    {
      "cell_type": "markdown",
      "source": [],
      "metadata": {
        "id": "e19dxMwU2pAk"
      }
    },
    {
      "cell_type": "code",
      "source": [
        "# Why we need sqrt(d_k) in denominator\n",
        "q.var(), k.var(), np.matmul(q, k.T).var()"
      ],
      "metadata": {
        "colab": {
          "base_uri": "https://localhost:8080/"
        },
        "id": "Jn1mKcz23rzX",
        "outputId": "2ef7027e-cc30-454d-d11d-125450556a1b"
      },
      "execution_count": 4,
      "outputs": [
        {
          "output_type": "execute_result",
          "data": {
            "text/plain": [
              "(np.float64(1.4710122425125802),\n",
              " np.float64(1.1253718513841289),\n",
              " np.float64(9.783258508123511))"
            ]
          },
          "metadata": {},
          "execution_count": 4
        }
      ]
    },
    {
      "cell_type": "code",
      "source": [
        "scaled = np.matmul(q, k.T) / math.sqrt(d_k)\n",
        "q.var(), k.var(), scaled.var()"
      ],
      "metadata": {
        "colab": {
          "base_uri": "https://localhost:8080/"
        },
        "id": "l8AK9jP13-uB",
        "outputId": "52cfc22f-c4bc-47a5-847e-65d00fee9352"
      },
      "execution_count": 6,
      "outputs": [
        {
          "output_type": "execute_result",
          "data": {
            "text/plain": [
              "(np.float64(1.4710122425125802),\n",
              " np.float64(1.1253718513841289),\n",
              " np.float64(1.2229073135154387))"
            ]
          },
          "metadata": {},
          "execution_count": 6
        }
      ]
    },
    {
      "cell_type": "code",
      "source": [
        "scaled"
      ],
      "metadata": {
        "colab": {
          "base_uri": "https://localhost:8080/"
        },
        "id": "yb5NMvoJ4TiU",
        "outputId": "6c2b9db0-8ccd-4447-f0b1-fa37d316919c"
      },
      "execution_count": 7,
      "outputs": [
        {
          "output_type": "execute_result",
          "data": {
            "text/plain": [
              "array([[ 0.01216274,  0.4258205 , -0.47759657,  2.35062427],\n",
              "       [ 0.84002033, -0.50381109,  1.43463703, -0.23468741],\n",
              "       [-0.55872695,  1.27102021, -2.21327965,  0.82299548],\n",
              "       [ 0.7654125 ,  0.45191514, -1.41557339, -0.75395632]])"
            ]
          },
          "metadata": {},
          "execution_count": 7
        }
      ]
    },
    {
      "cell_type": "markdown",
      "source": [
        "# Masking\n",
        "- this is ensure words don't get context from words generated in the feature.\n",
        "- Not required in the encoders, but required into the decoder."
      ],
      "metadata": {
        "id": "9rKKR_IL4aPf"
      }
    },
    {
      "cell_type": "code",
      "source": [
        "mask = np.tril(np.ones((L, L)))\n",
        "mask"
      ],
      "metadata": {
        "colab": {
          "base_uri": "https://localhost:8080/"
        },
        "id": "ooEhDlLk4qHn",
        "outputId": "189285ba-eeb4-4a77-c5c0-726796f0a5b8"
      },
      "execution_count": 9,
      "outputs": [
        {
          "output_type": "execute_result",
          "data": {
            "text/plain": [
              "array([[1., 0., 0., 0.],\n",
              "       [1., 1., 0., 0.],\n",
              "       [1., 1., 1., 0.],\n",
              "       [1., 1., 1., 1.]])"
            ]
          },
          "metadata": {},
          "execution_count": 9
        }
      ]
    },
    {
      "cell_type": "code",
      "source": [
        "mask[mask == 0] = -np.inf\n",
        "mask[mask == 1] = 0"
      ],
      "metadata": {
        "id": "v4FGOvjd5BX7"
      },
      "execution_count": 12,
      "outputs": []
    },
    {
      "cell_type": "code",
      "source": [
        "mask"
      ],
      "metadata": {
        "colab": {
          "base_uri": "https://localhost:8080/"
        },
        "id": "fBaXjg605MZH",
        "outputId": "1b9241c9-4abd-4f0f-8762-37b9c8f56869"
      },
      "execution_count": 13,
      "outputs": [
        {
          "output_type": "execute_result",
          "data": {
            "text/plain": [
              "array([[  0., -inf, -inf, -inf],\n",
              "       [  0.,   0., -inf, -inf],\n",
              "       [  0.,   0.,   0., -inf],\n",
              "       [  0.,   0.,   0.,   0.]])"
            ]
          },
          "metadata": {},
          "execution_count": 13
        }
      ]
    },
    {
      "cell_type": "code",
      "source": [
        "scaled + mask"
      ],
      "metadata": {
        "colab": {
          "base_uri": "https://localhost:8080/"
        },
        "id": "djFXBx7e5bOX",
        "outputId": "97c45060-7978-46f2-e2c0-87fff5ac8f7a"
      },
      "execution_count": 14,
      "outputs": [
        {
          "output_type": "execute_result",
          "data": {
            "text/plain": [
              "array([[ 0.01216274,        -inf,        -inf,        -inf],\n",
              "       [ 0.84002033, -0.50381109,        -inf,        -inf],\n",
              "       [-0.55872695,  1.27102021, -2.21327965,        -inf],\n",
              "       [ 0.7654125 ,  0.45191514, -1.41557339, -0.75395632]])"
            ]
          },
          "metadata": {},
          "execution_count": 14
        }
      ]
    },
    {
      "cell_type": "markdown",
      "source": [
        "# Softmax\n",
        "\n",
        "- softmax operation is used to convert vector into probability distribution\n",
        "\n",
        "$$ softmax = \\frac{e^{x_i}}{\\sum_je^{x_j}}$$"
      ],
      "metadata": {
        "id": "cORDwp9F5mk7"
      }
    },
    {
      "cell_type": "code",
      "source": [
        "def softmax(x):\n",
        "  return (np.exp(x).T/ np.sum(np.exp(x), axis=-1)).T"
      ],
      "metadata": {
        "id": "1LjqXiTG5mUR"
      },
      "execution_count": 15,
      "outputs": []
    },
    {
      "cell_type": "code",
      "source": [
        "attention = softmax(scaled + mask)"
      ],
      "metadata": {
        "id": "NGunfKr28HK4"
      },
      "execution_count": 16,
      "outputs": []
    },
    {
      "cell_type": "code",
      "source": [
        "attention"
      ],
      "metadata": {
        "colab": {
          "base_uri": "https://localhost:8080/"
        },
        "id": "6rqTBn2d8QaQ",
        "outputId": "68943321-ed1c-4f26-9ad1-4566d9aedcbd"
      },
      "execution_count": 17,
      "outputs": [
        {
          "output_type": "execute_result",
          "data": {
            "text/plain": [
              "array([[1.        , 0.        , 0.        , 0.        ],\n",
              "       [0.79311931, 0.20688069, 0.        , 0.        ],\n",
              "       [0.13470756, 0.83953938, 0.02575306, 0.        ],\n",
              "       [0.48480937, 0.35434053, 0.05474959, 0.10610052]])"
            ]
          },
          "metadata": {},
          "execution_count": 17
        }
      ]
    },
    {
      "cell_type": "code",
      "source": [
        "new_v = np.matmul(attention, v)\n",
        "new_v"
      ],
      "metadata": {
        "colab": {
          "base_uri": "https://localhost:8080/"
        },
        "id": "TjCWb9X58d6o",
        "outputId": "cb573056-284d-4993-ec24-44121cc05139"
      },
      "execution_count": 18,
      "outputs": [
        {
          "output_type": "execute_result",
          "data": {
            "text/plain": [
              "array([[-1.13486929,  1.18551936, -0.25474532,  1.78990235, -0.42541213,\n",
              "        -0.96401459, -0.50320953,  1.05096561],\n",
              "       [-0.90004288,  0.84649417, -0.49699878,  1.3812554 , -0.37906796,\n",
              "        -0.81662829, -0.60218825,  0.89207854],\n",
              "       [-0.15514394, -0.19352922, -1.25056946,  0.0750313 , -0.22804921,\n",
              "        -0.32800537, -0.91904587,  0.39940406],\n",
              "       [-0.54777524,  0.51055948, -0.84975337,  0.81418243, -0.34196816,\n",
              "        -0.71427142, -0.81827782,  0.65468132]])"
            ]
          },
          "metadata": {},
          "execution_count": 18
        }
      ]
    },
    {
      "cell_type": "code",
      "source": [
        "v"
      ],
      "metadata": {
        "colab": {
          "base_uri": "https://localhost:8080/"
        },
        "id": "BMIY76628ulz",
        "outputId": "3005eda9-8448-4863-9802-a596a553f884"
      },
      "execution_count": 19,
      "outputs": [
        {
          "output_type": "execute_result",
          "data": {
            "text/plain": [
              "array([[-1.13486929e+00,  1.18551936e+00, -2.54745318e-01,\n",
              "         1.78990235e+00, -4.25412134e-01, -9.64014589e-01,\n",
              "        -5.03209525e-01,  1.05096561e+00],\n",
              "       [ 2.12045446e-04, -4.53228061e-01, -1.42572684e+00,\n",
              "        -1.85376042e-01, -2.01398129e-01, -2.51592864e-01,\n",
              "        -9.81643365e-01,  2.82952560e-01],\n",
              "       [-9.49979963e-02,  1.05910358e+00, -7.49406825e-01,\n",
              "        -4.05838775e-01, -6.45096240e-02,  5.07776442e-01,\n",
              "        -1.05352462e+00,  7.87527046e-01],\n",
              "       [ 7.11210917e-02,  3.62111112e-01, -1.69676778e+00,\n",
              "         3.23530535e-01, -5.73314611e-01, -1.74889925e+00,\n",
              "        -1.59095416e+00,  1.68237610e-02]])"
            ]
          },
          "metadata": {},
          "execution_count": 19
        }
      ]
    },
    {
      "cell_type": "code",
      "source": [
        "def softmax(x):\n",
        "  return (np.exp(x).T/ np.sum(np.exp(x), axis=-1)).T\n",
        "\n",
        "def scaled_dot_product_attention(q, k, v, mask = None):\n",
        "  d_k = q.shape[-1]\n",
        "  scaled = np.matmul(q, k.T) / math.sqrt(d_k)\n",
        "  if mask is not None:\n",
        "    scaled = scaled + mask\n",
        "  attention = softmax(scaled)\n",
        "  out = np.matmul(attention, v)\n",
        "  return out, attention"
      ],
      "metadata": {
        "id": "1wD5MGN084WB"
      },
      "execution_count": 21,
      "outputs": []
    },
    {
      "cell_type": "code",
      "source": [
        "values, attention = scaled_dot_product_attention(q, k, v, mask=None)\n",
        "print(\"Q\\n\", q)\n",
        "print(\"K\\n\", k)\n",
        "print(\"V\\n\", v)\n",
        "print(\"New V\\n\", values)\n",
        "print(\"Attention \\n\", attention)"
      ],
      "metadata": {
        "colab": {
          "base_uri": "https://localhost:8080/"
        },
        "id": "jE527Vim98Yg",
        "outputId": "0f278922-8e25-48ff-ef48-37c87bf3ce34"
      },
      "execution_count": 25,
      "outputs": [
        {
          "output_type": "stream",
          "name": "stdout",
          "text": [
            "Q\n",
            " [[-0.97571141 -1.4084258   0.85765386  0.40328087 -1.68320015 -0.8114886\n",
            "  -1.1353064   3.81165462]\n",
            " [ 0.09256007 -1.43058551  0.92521313 -0.2665744   1.31792221 -0.71806688\n",
            "  -0.54201083  0.94766712]\n",
            " [ 0.0132578   0.47755363 -0.96212365 -1.22969531 -1.41255608  1.66327939\n",
            "   0.67350132 -1.34805729]\n",
            " [ 1.32986008  0.06187404  2.02623309 -0.87612554 -0.50228742 -0.55177263\n",
            "  -0.66013582  0.4795127 ]]\n",
            "K\n",
            " [[-0.14873684  0.59720768  0.75902317 -1.30181283  1.17149411 -0.18831046\n",
            "   0.33461812  0.73547018]\n",
            " [ 0.71418177 -0.26882076 -0.27493679 -0.92262498 -1.16459422  0.40400537\n",
            "   0.6396001   0.32118434]\n",
            " [-0.29410083 -1.21652305 -0.58847222  1.59742101  2.22622054 -0.84914317\n",
            "   0.46673953  0.02552858]\n",
            " [ 1.02317082 -1.39181225 -2.786326   -0.8405292  -1.56214675 -0.79065386\n",
            "   0.70711312  1.56023449]]\n",
            "V\n",
            " [[-1.13486929e+00  1.18551936e+00 -2.54745318e-01  1.78990235e+00\n",
            "  -4.25412134e-01 -9.64014589e-01 -5.03209525e-01  1.05096561e+00]\n",
            " [ 2.12045446e-04 -4.53228061e-01 -1.42572684e+00 -1.85376042e-01\n",
            "  -2.01398129e-01 -2.51592864e-01 -9.81643365e-01  2.82952560e-01]\n",
            " [-9.49979963e-02  1.05910358e+00 -7.49406825e-01 -4.05838775e-01\n",
            "  -6.45096240e-02  5.07776442e-01 -1.05352462e+00  7.87527046e-01]\n",
            " [ 7.11210917e-02  3.62111112e-01 -1.69676778e+00  3.23530535e-01\n",
            "  -5.73314611e-01 -1.74889925e+00 -1.59095416e+00  1.68237610e-02]]\n",
            "New V\n",
            " [[-3.37700390e-02  3.63403692e-01 -1.51645822e+00  3.42046964e-01\n",
            "  -4.97545951e-01 -1.42035784e+00 -1.41760469e+00  1.58323423e-01]\n",
            " [-3.75654537e-01  9.10909903e-01 -7.50923680e-01  3.26975779e-01\n",
            "  -2.31532858e-01 -2.06892163e-01 -9.40600623e-01  7.49076314e-01]\n",
            " [-7.61511708e-02  4.53781284e-04 -1.40634449e+00  1.61786394e-01\n",
            "  -3.48586931e-01 -8.24062341e-01 -1.15361989e+00  2.65839110e-01]\n",
            " [-5.47775242e-01  5.10559484e-01 -8.49753372e-01  8.14182431e-01\n",
            "  -3.41968159e-01 -7.14271415e-01 -8.18277819e-01  6.54681324e-01]]\n",
            "Attention \n",
            " [[0.07412684 0.11210494 0.04542299 0.76834524]\n",
            " [0.29286196 0.07639139 0.53076431 0.09998235]\n",
            " [0.08767898 0.54644264 0.01676225 0.34911613]\n",
            " [0.48480937 0.35434053 0.05474959 0.10610052]]\n"
          ]
        }
      ]
    },
    {
      "cell_type": "markdown",
      "source": [
        "# Multihead Attention"
      ],
      "metadata": {
        "id": "YLDOjePx-tbD"
      }
    },
    {
      "cell_type": "code",
      "source": [
        "import numpy as np\n",
        "import torch\n",
        "import torch.nn as nn\n",
        "import torch.nn.functional as F"
      ],
      "metadata": {
        "id": "yVwhNHhu-xer"
      },
      "execution_count": 26,
      "outputs": []
    },
    {
      "cell_type": "code",
      "source": [
        "sequence_length = 4 # length of your sentence\n",
        "batch_size = 1  # its help for parallel processing\n",
        "input_dim = 512 # vector dimension of every word that goes into attention unit\n",
        "d_model = 512 # output of the attention unit every single word\n",
        "x = torch.randn((batch_size, sequence_length, input_dim))  # randomly generated input"
      ],
      "metadata": {
        "id": "qVFv2laR_M3R"
      },
      "execution_count": 27,
      "outputs": []
    },
    {
      "cell_type": "code",
      "source": [
        "x.size()"
      ],
      "metadata": {
        "colab": {
          "base_uri": "https://localhost:8080/"
        },
        "id": "3Pr2chiJ_hV_",
        "outputId": "697bebc2-e71f-4331-fd05-db68de41cb93"
      },
      "execution_count": 28,
      "outputs": [
        {
          "output_type": "execute_result",
          "data": {
            "text/plain": [
              "torch.Size([1, 4, 512])"
            ]
          },
          "metadata": {},
          "execution_count": 28
        }
      ]
    },
    {
      "cell_type": "code",
      "source": [
        "qkv_layer = nn_layer = nn.Linear(input_dim, 3 * d_model) # we are creating a layer where query, key and value vectors all concatenated, which we will split later"
      ],
      "metadata": {
        "id": "qX9Awp2jAQMc"
      },
      "execution_count": 29,
      "outputs": []
    },
    {
      "cell_type": "code",
      "source": [
        "qkv = qkv_layer(x)"
      ],
      "metadata": {
        "id": "WZKXVTNDAcIg"
      },
      "execution_count": 31,
      "outputs": []
    },
    {
      "cell_type": "code",
      "source": [
        "qkv.shape"
      ],
      "metadata": {
        "colab": {
          "base_uri": "https://localhost:8080/"
        },
        "id": "IjifJNHCA2wZ",
        "outputId": "dd17e86f-b408-4c48-cc58-9ca9cda12928"
      },
      "execution_count": 32,
      "outputs": [
        {
          "output_type": "execute_result",
          "data": {
            "text/plain": [
              "torch.Size([1, 4, 1536])"
            ]
          },
          "metadata": {},
          "execution_count": 32
        }
      ]
    },
    {
      "cell_type": "code",
      "source": [
        "import matplotlib.pyplot as plt\n",
        "y_val = torch.histc(qkv, bins=200, min=-3, max=3)\n",
        "x_val = np.arange(-1,1,0.01) * 3\n",
        "plt.bar(x_val,y_val, align='center', color=['forestgreen'])\n",
        "plt.title('qkv distribution')"
      ],
      "metadata": {
        "colab": {
          "base_uri": "https://localhost:8080/",
          "height": 470
        },
        "id": "qZ6hv_ewA6ul",
        "outputId": "66c146b1-5f49-4357-87cb-d9b24b4b5adc"
      },
      "execution_count": 33,
      "outputs": [
        {
          "output_type": "execute_result",
          "data": {
            "text/plain": [
              "Text(0.5, 1.0, 'qkv distribution')"
            ]
          },
          "metadata": {},
          "execution_count": 33
        },
        {
          "output_type": "display_data",
          "data": {
            "text/plain": [
              "<Figure size 640x480 with 1 Axes>"
            ],
            "image/png": "[encoded data removed]"
          },
          "metadata": {}
        }
      ]
    },
    {
      "cell_type": "code",
      "source": [
        "num_heads = 8 # how many attention block we want to create multi-head attention\n",
        "head_dim = d_model // num_heads # dimension of each head\n",
        "qkv = qkv.reshape(batch_size, sequence_length, num_heads, 3 * head_dim) # now we are changing the dimension of qkv matrix layer accroding to num_head"
      ],
      "metadata": {
        "id": "BJLcjyGKBmxT"
      },
      "execution_count": 35,
      "outputs": []
    },
    {
      "cell_type": "code",
      "source": [
        "qkv.shape"
      ],
      "metadata": {
        "colab": {
          "base_uri": "https://localhost:8080/"
        },
        "id": "pT8AASsTCN2s",
        "outputId": "531a2287-4d1f-400d-a073-6b44992b3e4f"
      },
      "execution_count": 36,
      "outputs": [
        {
          "output_type": "execute_result",
          "data": {
            "text/plain": [
              "torch.Size([1, 4, 8, 192])"
            ]
          },
          "metadata": {},
          "execution_count": 36
        }
      ]
    },
    {
      "cell_type": "code",
      "source": [
        "qkv = qkv.permute(0, 2, 1, 3) # [batch_size, num_heads, sequence_length, 3 * head_dim]\n",
        "qkv.shape"
      ],
      "metadata": {
        "colab": {
          "base_uri": "https://localhost:8080/"
        },
        "id": "xDYWBgiPCWsi",
        "outputId": "c768265d-c20a-4ae3-cac6-f3cce08121ca"
      },
      "execution_count": 37,
      "outputs": [
        {
          "output_type": "execute_result",
          "data": {
            "text/plain": [
              "torch.Size([1, 8, 4, 192])"
            ]
          },
          "metadata": {},
          "execution_count": 37
        }
      ]
    },
    {
      "cell_type": "markdown",
      "source": [
        "- now we are calculating the query, key and value matrix by breaking down qkv tensor"
      ],
      "metadata": {
        "id": "g76g5iB6CorS"
      }
    },
    {
      "cell_type": "code",
      "source": [
        "q, k, v = qkv.chunk(3, dim = -1)\n",
        "q.shape, k.shape, v.shape # # [batch_size, num_heads, sequence_length, head_dim]"
      ],
      "metadata": {
        "colab": {
          "base_uri": "https://localhost:8080/"
        },
        "id": "dS9sT7dbCwu8",
        "outputId": "b03b2db3-e4e8-46d8-dabe-c6834d83cde0"
      },
      "execution_count": 38,
      "outputs": [
        {
          "output_type": "execute_result",
          "data": {
            "text/plain": [
              "(torch.Size([1, 8, 4, 64]),\n",
              " torch.Size([1, 8, 4, 64]),\n",
              " torch.Size([1, 8, 4, 64]))"
            ]
          },
          "metadata": {},
          "execution_count": 38
        }
      ]
    },
    {
      "cell_type": "markdown",
      "source": [
        "# Self Attention for multiple heads\n",
        "\n",
        "For a single head:\n",
        "$$ self attention = softmax(\\frac{Q.K^T}{\\sqrt{d_k}}+M)$$\n",
        "$$new V =self attention.V$$"
      ],
      "metadata": {
        "id": "8ImmxteyDH_f"
      }
    },
    {
      "cell_type": "code",
      "source": [
        "d_k = q.size()[-1]\n",
        "scaled = torch.matmul(q, k.transpose(-2,-1)) / math.sqrt(d_k)\n",
        "scaled.shape"
      ],
      "metadata": {
        "colab": {
          "base_uri": "https://localhost:8080/"
        },
        "id": "KMD78LnwDHxs",
        "outputId": "7bd69dcd-49dc-4197-880d-d1dd82f389ed"
      },
      "execution_count": 41,
      "outputs": [
        {
          "output_type": "execute_result",
          "data": {
            "text/plain": [
              "torch.Size([1, 8, 4, 4])"
            ]
          },
          "metadata": {},
          "execution_count": 41
        }
      ]
    },
    {
      "cell_type": "code",
      "source": [
        "k.T.shape # [head_dim, sequence_length, num_heads, batch_size]"
      ],
      "metadata": {
        "colab": {
          "base_uri": "https://localhost:8080/"
        },
        "id": "TdIqpVMQFx1J",
        "outputId": "d446742f-128b-46a7-b6a9-b1d39ce040fb"
      },
      "execution_count": 44,
      "outputs": [
        {
          "output_type": "execute_result",
          "data": {
            "text/plain": [
              "torch.Size([64, 4, 8, 1])"
            ]
          },
          "metadata": {},
          "execution_count": 44
        }
      ]
    },
    {
      "cell_type": "code",
      "source": [
        "mask = torch.full(scaled.size(), float('-inf'))\n",
        "mask = torch.triu(mask, diagonal=1)\n",
        "mask[0][1] # mask for input to a single head"
      ],
      "metadata": {
        "colab": {
          "base_uri": "https://localhost:8080/"
        },
        "id": "OBy2zmC_HZh6",
        "outputId": "75dc24ef-9f45-4669-86e4-2866d689eb97"
      },
      "execution_count": 47,
      "outputs": [
        {
          "output_type": "execute_result",
          "data": {
            "text/plain": [
              "tensor([[0., -inf, -inf, -inf],\n",
              "        [0., 0., -inf, -inf],\n",
              "        [0., 0., 0., -inf],\n",
              "        [0., 0., 0., 0.]])"
            ]
          },
          "metadata": {},
          "execution_count": 47
        }
      ]
    },
    {
      "cell_type": "code",
      "source": [
        "(scaled + mask)[0][0]"
      ],
      "metadata": {
        "colab": {
          "base_uri": "https://localhost:8080/"
        },
        "id": "_l-uOhiHH5SA",
        "outputId": "1cfe4e08-5484-4c53-9d00-c70ea83f78b9"
      },
      "execution_count": 49,
      "outputs": [
        {
          "output_type": "execute_result",
          "data": {
            "text/plain": [
              "tensor([[-0.1955,    -inf,    -inf,    -inf],\n",
              "        [ 0.0336, -0.3812,    -inf,    -inf],\n",
              "        [ 0.1033, -0.3376,  0.1590,    -inf],\n",
              "        [-0.5891,  0.3071, -0.4046, -1.1568]], grad_fn=<SelectBackward0>)"
            ]
          },
          "metadata": {},
          "execution_count": 49
        }
      ]
    },
    {
      "cell_type": "code",
      "source": [
        "scaled += mask"
      ],
      "metadata": {
        "id": "wzMZSXGxIJ-u"
      },
      "execution_count": 50,
      "outputs": []
    },
    {
      "cell_type": "code",
      "source": [
        "np.exp(0.5596) / (np.exp(0.5596) + np.exp(0.0404))"
      ],
      "metadata": {
        "colab": {
          "base_uri": "https://localhost:8080/"
        },
        "id": "EqU5Mc9eIPFF",
        "outputId": "5e8d4329-603c-457d-eb34-fa4a3029ae1b"
      },
      "execution_count": 51,
      "outputs": [
        {
          "output_type": "execute_result",
          "data": {
            "text/plain": [
              "np.float64(0.6269606805367254)"
            ]
          },
          "metadata": {},
          "execution_count": 51
        }
      ]
    },
    {
      "cell_type": "code",
      "source": [
        "attention = F.softmax(scaled, dim=-1)"
      ],
      "metadata": {
        "id": "N36j5xz-IgA-"
      },
      "execution_count": 52,
      "outputs": []
    },
    {
      "cell_type": "code",
      "source": [
        "attention.shape"
      ],
      "metadata": {
        "colab": {
          "base_uri": "https://localhost:8080/"
        },
        "id": "AOADmBbuIl8q",
        "outputId": "10fd6868-c8f8-4f76-8481-45ebd575a4b7"
      },
      "execution_count": 53,
      "outputs": [
        {
          "output_type": "execute_result",
          "data": {
            "text/plain": [
              "torch.Size([1, 8, 4, 4])"
            ]
          },
          "metadata": {},
          "execution_count": 53
        }
      ]
    },
    {
      "cell_type": "code",
      "source": [
        "attention[0][0]"
      ],
      "metadata": {
        "colab": {
          "base_uri": "https://localhost:8080/"
        },
        "id": "UUhwG4kVIoL6",
        "outputId": "87aaee65-e1cb-48ad-dda0-b02ec79186ef"
      },
      "execution_count": 54,
      "outputs": [
        {
          "output_type": "execute_result",
          "data": {
            "text/plain": [
              "tensor([[1.0000, 0.0000, 0.0000, 0.0000],\n",
              "        [0.6022, 0.3978, 0.0000, 0.0000],\n",
              "        [0.3703, 0.2383, 0.3915, 0.0000],\n",
              "        [0.1916, 0.4694, 0.2304, 0.1086]], grad_fn=<SelectBackward0>)"
            ]
          },
          "metadata": {},
          "execution_count": 54
        }
      ]
    },
    {
      "cell_type": "code",
      "source": [
        "values = torch.matmul(attention, v)\n",
        "values.shape"
      ],
      "metadata": {
        "colab": {
          "base_uri": "https://localhost:8080/"
        },
        "id": "GBFW8JHgJJaM",
        "outputId": "cc611c33-fc81-41aa-89cc-7bcdaad6088c"
      },
      "execution_count": 55,
      "outputs": [
        {
          "output_type": "execute_result",
          "data": {
            "text/plain": [
              "torch.Size([1, 8, 4, 64])"
            ]
          },
          "metadata": {},
          "execution_count": 55
        }
      ]
    },
    {
      "cell_type": "markdown",
      "source": [
        "# Function"
      ],
      "metadata": {
        "id": "6rvgjAGMJFy-"
      }
    },
    {
      "cell_type": "code",
      "source": [
        "def scaled_dot_product(q, k, v, mask = None):\n",
        "  d_k = q.shape[-1]\n",
        "  scaled = torch.matmul(q, k.transpose(-1,-2)) / math.sqrt(d_k)\n",
        "  if mask is not None:\n",
        "    scaled += mask\n",
        "  attention = F.softmax(scaled, dim=-1)\n",
        "  values = torch.matmul(attention, v)\n",
        "  return values, attention"
      ],
      "metadata": {
        "id": "GewtyUjQJQz6"
      },
      "execution_count": 57,
      "outputs": []
    },
    {
      "cell_type": "code",
      "source": [
        "values, attention = scaled_dot_product(q, k, v, mask=None)"
      ],
      "metadata": {
        "id": "GMLj6voEJY69"
      },
      "execution_count": 58,
      "outputs": []
    },
    {
      "cell_type": "code",
      "source": [
        "attention.shape"
      ],
      "metadata": {
        "colab": {
          "base_uri": "https://localhost:8080/"
        },
        "id": "EJPj-2l6KBBp",
        "outputId": "88783483-6e26-4cb4-e1be-fa5fd50a0da1"
      },
      "execution_count": 59,
      "outputs": [
        {
          "output_type": "execute_result",
          "data": {
            "text/plain": [
              "torch.Size([1, 8, 4, 4])"
            ]
          },
          "metadata": {},
          "execution_count": 59
        }
      ]
    },
    {
      "cell_type": "code",
      "source": [
        "attention[0][0]"
      ],
      "metadata": {
        "colab": {
          "base_uri": "https://localhost:8080/"
        },
        "id": "eCiKP-SFKK-E",
        "outputId": "0726ff49-a7e1-4ecd-92e9-a6579bdc8e3a"
      },
      "execution_count": 60,
      "outputs": [
        {
          "output_type": "execute_result",
          "data": {
            "text/plain": [
              "tensor([[0.2122, 0.1714, 0.3378, 0.2786],\n",
              "        [0.2415, 0.1595, 0.1679, 0.4311],\n",
              "        [0.2911, 0.1873, 0.3078, 0.2137],\n",
              "        [0.1916, 0.4694, 0.2304, 0.1086]], grad_fn=<SelectBackward0>)"
            ]
          },
          "metadata": {},
          "execution_count": 60
        }
      ]
    },
    {
      "cell_type": "code",
      "source": [
        "values.size()"
      ],
      "metadata": {
        "colab": {
          "base_uri": "https://localhost:8080/"
        },
        "id": "7izrH9MqK-lh",
        "outputId": "4907a239-8897-45d1-8308-e183b7dc56b0"
      },
      "execution_count": 61,
      "outputs": [
        {
          "output_type": "execute_result",
          "data": {
            "text/plain": [
              "torch.Size([1, 8, 4, 64])"
            ]
          },
          "metadata": {},
          "execution_count": 61
        }
      ]
    },
    {
      "cell_type": "code",
      "source": [
        "values = values.reshape(batch_size, sequence_length, num_heads* head_dim)\n",
        "values.size()"
      ],
      "metadata": {
        "colab": {
          "base_uri": "https://localhost:8080/"
        },
        "id": "5y2vlT-vQFq-",
        "outputId": "cdab0c33-62d2-4a3a-a4bd-d6854cb63a2a"
      },
      "execution_count": 62,
      "outputs": [
        {
          "output_type": "execute_result",
          "data": {
            "text/plain": [
              "torch.Size([1, 4, 512])"
            ]
          },
          "metadata": {},
          "execution_count": 62
        }
      ]
    },
    {
      "cell_type": "code",
      "source": [
        "linear_layer = nn.Linear(d_model, d_model)"
      ],
      "metadata": {
        "id": "ulI0XWNyQPPP"
      },
      "execution_count": 63,
      "outputs": []
    },
    {
      "cell_type": "code",
      "source": [
        "out = linear_layer(values)\n",
        "out.shape"
      ],
      "metadata": {
        "colab": {
          "base_uri": "https://localhost:8080/"
        },
        "id": "lfaoZFpWQZkc",
        "outputId": "d34150a2-5888-4871-a5f6-43a98103719a"
      },
      "execution_count": 65,
      "outputs": [
        {
          "output_type": "execute_result",
          "data": {
            "text/plain": [
              "torch.Size([1, 4, 512])"
            ]
          },
          "metadata": {},
          "execution_count": 65
        }
      ]
    },
    {
      "cell_type": "code",
      "source": [
        "import torch\n",
        "import torch.nn as nn\n",
        "import math\n",
        "\n",
        "def scaled_dot_product(q, k, v, mask = None):\n",
        "  d_k = q.shape[-1]\n",
        "  scaled = torch.matmul(q, k.transpose(-1,-2)) / math.sqrt(d_k)\n",
        "  if mask is not None:\n",
        "    scaled += mask\n",
        "  attention = F.softmax(scaled, dim=-1)\n",
        "  values = torch.matmul(attention, v)\n",
        "  return values, attention\n",
        "\n",
        "class MultiheadAttention(nn.Module):\n",
        "\n",
        "  def __init__(self, input_dim, d_model, num_heads):\n",
        "    super().__init__()\n",
        "    self.input_dim = input_dim\n",
        "    self.d_model = d_model\n",
        "    self.num_heads = num_heads\n",
        "    self.head_dim = d_model // num_heads\n",
        "    self.qkv_layer = nn.Linear(input_dim, 3 * d_model)\n",
        "    self.linear_layer = nn.Linear(d_model, d_model)\n",
        "\n",
        "  def forward(self, x, mask=None):\n",
        "    batch_size, sequence_length, input_dim = x.size()\n",
        "    print(f\"x.size():{x.size()}\")\n",
        "    qkv = self.qkv_layer(x)\n",
        "    print(f\"qkv.size(): {qkv.size()}\")\n",
        "    qkv = qkv.reshape(batch_size, sequence_length, self.num_heads, 3 * self.head_dim)\n",
        "    print(f\"qkv.size(): {qkv.size()}\")\n",
        "    qkv = qkv.permute(0, 2, 1, 3)\n",
        "    print(f\"qkv.size(): {qkv.size()}\")\n",
        "    q, k, v = qkv.chunk(3, dim=-1)\n",
        "    print(f\"q size: {q.size()}, k size: {k.size()}, v size: {v.size()}, \")\n",
        "    values, attention = scaled_dot_product(q, k, v, mask)\n",
        "    print(f\"values.size(): {values.size()}, attention.size: {attention.size()}\")\n",
        "    values = values.reshape(batch_size, sequence_length, self.num_heads * self.head_dim)\n",
        "    print(f\"values.size(): {values.size()}\")\n",
        "    out = self.linear_layer(values)\n",
        "    print(f\"out.size(): {out.size()}\")\n",
        "    return out"
      ],
      "metadata": {
        "id": "7sSpf-eXQ2y_"
      },
      "execution_count": 76,
      "outputs": []
    },
    {
      "cell_type": "markdown",
      "source": [
        "# Input"
      ],
      "metadata": {
        "id": "7FShjojeT0NA"
      }
    },
    {
      "cell_type": "code",
      "source": [
        "input_dim = 1024\n",
        "d_model = 512\n",
        "num_heads = 8\n",
        "\n",
        "batch_size = 30\n",
        "sequence_length = 5\n",
        "x = torch.randn((batch_size, sequence_length, input_dim))\n",
        "\n",
        "model = MultiheadAttention(input_dim, d_model, num_heads)\n",
        "out = model.forward(x)\n"
      ],
      "metadata": {
        "colab": {
          "base_uri": "https://localhost:8080/"
        },
        "id": "VJZ3zzgQT1cK",
        "outputId": "d12a217c-62f2-4bc8-e7c8-50c6d52206d2"
      },
      "execution_count": 77,
      "outputs": [
        {
          "output_type": "stream",
          "name": "stdout",
          "text": [
            "x.size():torch.Size([30, 5, 1024])\n",
            "qkv.size(): torch.Size([30, 5, 1536])\n",
            "qkv.size(): torch.Size([30, 5, 8, 192])\n",
            "qkv.size(): torch.Size([30, 8, 5, 192])\n",
            "q size: torch.Size([30, 8, 5, 64]), k size: torch.Size([30, 8, 5, 64]), v size: torch.Size([30, 8, 5, 64]), \n",
            "values.size(): torch.Size([30, 8, 5, 64]), attention.size: torch.Size([30, 8, 5, 5])\n",
            "values.size(): torch.Size([30, 5, 512])\n",
            "out.size(): torch.Size([30, 5, 512])\n"
          ]
        }
      ]
    }
  ]
}