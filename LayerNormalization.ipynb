{
  "nbformat": 4,
  "nbformat_minor": 0,
  "metadata": {
    "colab": {
      "provenance": [],
      "authorship_tag": "ABX9TyNNs8azHdVsjJ4/yQsZgD7E",
      "include_colab_link": true
    },
    "kernelspec": {
      "name": "python3",
      "display_name": "Python 3"
    },
    "language_info": {
      "name": "python"
    }
  },
  "cells": [
    {
      "cell_type": "markdown",
      "metadata": {
        "id": "view-in-github",
        "colab_type": "text"
      },
      "source": [
        "<a href=\"https://colab.research.google.com/github/ajayvallabh/PytorchTutorial/blob/main/LayerNormalization.ipynb\" target=\"_parent\"><img src=\"https://colab.research.google.com/assets/colab-badge.svg\" alt=\"Open In Colab\"/></a>"
      ]
    },
    {
      "cell_type": "code",
      "execution_count": null,
      "metadata": {
        "id": "hyYEc2wGyl0M"
      },
      "outputs": [],
      "source": [
        "import torch\n",
        "from torch import nn"
      ]
    },
    {
      "cell_type": "code",
      "source": [
        "inputs = torch.Tensor([[[0.2,0.1,0.3],[0.5,0.1,0.1]]]) # batch input\n",
        "B, S, E = inputs.size()\n",
        "inputs = inputs.reshape(S, B, E)\n",
        "inputs.size() # Number of word 2, batch size 1, embedding the each batch = 3"
      ],
      "metadata": {
        "colab": {
          "base_uri": "https://localhost:8080/"
        },
        "id": "uIYsGKWqyw8x",
        "outputId": "ab0734e3-4274-46f1-d503-6b1ed8df4907"
      },
      "execution_count": null,
      "outputs": [
        {
          "output_type": "execute_result",
          "data": {
            "text/plain": [
              "torch.Size([2, 1, 3])"
            ]
          },
          "metadata": {},
          "execution_count": 2
        }
      ]
    },
    {
      "cell_type": "code",
      "source": [
        "parameter_shape =inputs.size()[-2:]\n",
        "gamma = nn.Parameter(torch.ones(parameter_shape))\n",
        "beta = nn.Parameter(torch.zeros(parameter_shape))"
      ],
      "metadata": {
        "id": "-oSd5K4WzPUA"
      },
      "execution_count": null,
      "outputs": []
    },
    {
      "cell_type": "code",
      "source": [
        "gamma.size(), beta.size()"
      ],
      "metadata": {
        "colab": {
          "base_uri": "https://localhost:8080/"
        },
        "id": "uigHVz3HzfQl",
        "outputId": "de2e20b8-56fd-48e2-cec7-89107346aed2"
      },
      "execution_count": null,
      "outputs": [
        {
          "output_type": "execute_result",
          "data": {
            "text/plain": [
              "(torch.Size([1, 3]), torch.Size([1, 3]))"
            ]
          },
          "metadata": {},
          "execution_count": 4
        }
      ]
    },
    {
      "cell_type": "code",
      "source": [
        "dims = [-(i+1) for i in range(len(parameter_shape))]"
      ],
      "metadata": {
        "id": "awpln_ktzjbM"
      },
      "execution_count": null,
      "outputs": []
    },
    {
      "cell_type": "code",
      "source": [
        "dims"
      ],
      "metadata": {
        "colab": {
          "base_uri": "https://localhost:8080/"
        },
        "id": "juBcZR9Pzqlj",
        "outputId": "6d1e4241-08fb-4325-8562-5867fa19aec4"
      },
      "execution_count": null,
      "outputs": [
        {
          "output_type": "execute_result",
          "data": {
            "text/plain": [
              "[-1, -2]"
            ]
          },
          "metadata": {},
          "execution_count": 6
        }
      ]
    },
    {
      "cell_type": "code",
      "source": [
        "mean = inputs.mean(dim = dims, keepdim = True)\n",
        "mean.size()"
      ],
      "metadata": {
        "colab": {
          "base_uri": "https://localhost:8080/"
        },
        "id": "b3jqY5WQ0OOS",
        "outputId": "4570f644-72a3-402d-ca3e-71b01c3c6858"
      },
      "execution_count": null,
      "outputs": [
        {
          "output_type": "execute_result",
          "data": {
            "text/plain": [
              "torch.Size([2, 1, 1])"
            ]
          },
          "metadata": {},
          "execution_count": 7
        }
      ]
    },
    {
      "cell_type": "code",
      "source": [
        "var = ((inputs-mean)**2).mean(dim=dims, keepdim=True)\n",
        "epsilon = 1e-5\n",
        "std = (var+epsilon).sqrt()\n",
        "std"
      ],
      "metadata": {
        "colab": {
          "base_uri": "https://localhost:8080/"
        },
        "id": "JCLw6FGP0YZE",
        "outputId": "5821abbd-7ee3-4ccb-feda-8e22e8078b44"
      },
      "execution_count": null,
      "outputs": [
        {
          "output_type": "execute_result",
          "data": {
            "text/plain": [
              "tensor([[[0.0817]],\n",
              "\n",
              "        [[0.1886]]])"
            ]
          },
          "metadata": {},
          "execution_count": 10
        }
      ]
    },
    {
      "cell_type": "code",
      "source": [
        "y = (inputs-mean) / std\n",
        "y"
      ],
      "metadata": {
        "colab": {
          "base_uri": "https://localhost:8080/"
        },
        "id": "v1Y9XsEd01mk",
        "outputId": "17b95bdc-b8a7-4a3d-d886-8812620c1b44"
      },
      "execution_count": null,
      "outputs": [
        {
          "output_type": "execute_result",
          "data": {
            "text/plain": [
              "tensor([[[ 0.0000, -1.2238,  1.2238]],\n",
              "\n",
              "        [[ 1.4140, -0.7070, -0.7070]]])"
            ]
          },
          "metadata": {},
          "execution_count": 11
        }
      ]
    },
    {
      "cell_type": "code",
      "source": [
        "out = gamma*y + beta"
      ],
      "metadata": {
        "id": "O-2vxewq08nx"
      },
      "execution_count": null,
      "outputs": []
    },
    {
      "cell_type": "code",
      "source": [
        "out"
      ],
      "metadata": {
        "colab": {
          "base_uri": "https://localhost:8080/"
        },
        "id": "tRokJWLB1Bbm",
        "outputId": "ceeb7d38-fbe5-4e9e-cc10-0b9783142395"
      },
      "execution_count": null,
      "outputs": [
        {
          "output_type": "execute_result",
          "data": {
            "text/plain": [
              "tensor([[[ 0.0000, -1.2238,  1.2238]],\n",
              "\n",
              "        [[ 1.4140, -0.7070, -0.7070]]], grad_fn=<AddBackward0>)"
            ]
          },
          "metadata": {},
          "execution_count": 13
        }
      ]
    },
    {
      "cell_type": "markdown",
      "source": [
        "# Layer Normalization Class"
      ],
      "metadata": {
        "id": "liYveXLf1Hkl"
      }
    },
    {
      "cell_type": "code",
      "source": [
        "import torch\n",
        "from torch import nn\n",
        "\n",
        "class LayerNormalization():\n",
        "  def __init__(self, parameter_shape, eps=1e-5):\n",
        "    self.parameter_shape = parameter_shape\n",
        "    self.eps = eps\n",
        "    self.gamma = nn.Parameter(torch.ones(parameter_shape))\n",
        "    self.beta = nn.Parameter(torch.zeros(parameter_shape))\n",
        "\n",
        "  def forward(self, input):\n",
        "    dims = [-(i+1) for i in range(len(self.parameter_shape))]\n",
        "    mean = inputs.mean(dim=dims, keepdim=True)\n",
        "    print(f\"Mean \\n ({mean.size()}): \\n {mean}\")\n",
        "    var = ((input-mean)**2).mean(dim=dims, keepdim=True)\n",
        "    std = (var + self.eps).sqrt()\n",
        "    print(f\"Standard Deviation \\n ({std.size()}): \\n {std}\")\n",
        "    y = (inputs-mean) / std\n",
        "    print(f\"y \\n ({y.size()}) = \\n {y}\")\n",
        "    out = self.gamma * y + self.beta\n",
        "    print(f\"out \\n ({out.size()}) = \\n {out}\")\n",
        "    return out"
      ],
      "metadata": {
        "id": "TtFQaheR1KYQ"
      },
      "execution_count": null,
      "outputs": []
    },
    {
      "cell_type": "code",
      "source": [
        "batch_size = 3\n",
        "sentence_length = 5\n",
        "embedding_dim = 8\n",
        "inputs = torch.randn(sentence_length, batch_size, embedding_dim)\n",
        "\n",
        "print(f\"input \\n ({inputs.size()}) = {inputs}\")"
      ],
      "metadata": {
        "colab": {
          "base_uri": "https://localhost:8080/"
        },
        "id": "MXk65jUI3GyO",
        "outputId": "e54eb3e8-3eb3-4d5c-bab8-de3dea6672e4"
      },
      "execution_count": null,
      "outputs": [
        {
          "output_type": "stream",
          "name": "stdout",
          "text": [
            "input \n",
            " (torch.Size([5, 3, 8])) = tensor([[[ 0.9547,  0.9566,  0.5345, -0.0652,  0.3878,  0.6297,  1.1684,\n",
            "           0.1082],\n",
            "         [-0.0361, -0.3104, -0.0898, -0.7286,  0.4172,  0.3980, -1.0196,\n",
            "          -1.0880],\n",
            "         [-0.0734, -0.7290,  0.4510,  0.1741, -0.5294,  0.8448,  0.1440,\n",
            "          -1.6040]],\n",
            "\n",
            "        [[ 0.1193, -0.1293,  0.5652, -0.4637,  0.1900,  0.1970,  0.2726,\n",
            "           0.7118],\n",
            "         [-1.3196, -0.0802, -0.2023, -0.5171, -0.8200,  1.4979,  0.8022,\n",
            "          -1.1153],\n",
            "         [-2.2353, -0.5812,  2.6042, -1.3106, -0.2852, -1.4256, -1.5638,\n",
            "          -0.9875]],\n",
            "\n",
            "        [[-0.3183,  0.5551,  0.1410, -0.8474, -0.0375,  2.3172,  0.5033,\n",
            "           0.3971],\n",
            "         [-0.4906, -0.6728, -0.0757, -1.1786, -1.2865, -2.0180, -0.3315,\n",
            "          -1.1942],\n",
            "         [-0.5160,  0.0414, -0.9908,  0.9247,  2.0534, -0.4055, -0.8212,\n",
            "          -1.0479]],\n",
            "\n",
            "        [[-1.3799, -0.9166, -1.7157,  0.0675,  0.8621, -0.4258,  0.1571,\n",
            "           0.4993],\n",
            "         [ 1.2234,  0.1930,  0.1548, -1.1967,  0.2240,  1.0278,  0.0484,\n",
            "           0.9036],\n",
            "         [ 0.7125, -0.0721,  1.5716, -1.0997, -0.3413,  0.2332, -0.9128,\n",
            "           0.2937]],\n",
            "\n",
            "        [[ 0.0555, -0.0616,  0.7513,  0.8600,  0.5641,  1.1907, -1.2910,\n",
            "           0.0267],\n",
            "         [-1.0748,  0.5588, -0.5391,  0.0055,  1.6886, -0.1620, -1.0988,\n",
            "          -0.0919],\n",
            "         [-1.0166, -0.3051,  1.9778, -0.5810, -0.1736,  0.4890,  1.0837,\n",
            "          -1.2411]]])\n"
          ]
        }
      ]
    },
    {
      "cell_type": "code",
      "source": [
        "layer_norm = LayerNormalization(inputs.size()[-2:])"
      ],
      "metadata": {
        "id": "hKW-K8Ct3n3G"
      },
      "execution_count": null,
      "outputs": []
    },
    {
      "cell_type": "code",
      "source": [
        "out = layer_norm.forward(inputs)"
      ],
      "metadata": {
        "id": "MjmV2J853wny",
        "outputId": "b7987cb3-4df4-4a5e-f271-e55bb8f99da5",
        "colab": {
          "base_uri": "https://localhost:8080/"
        }
      },
      "execution_count": null,
      "outputs": [
        {
          "output_type": "stream",
          "name": "stdout",
          "text": [
            "Mean \n",
            " (torch.Size([5, 1, 1])): \n",
            " tensor([[[ 0.0373]],\n",
            "\n",
            "        [[-0.2532]],\n",
            "\n",
            "        [[-0.2208]],\n",
            "\n",
            "        [[ 0.0046]],\n",
            "\n",
            "        [[ 0.0673]]])\n",
            "Standard Deviation \n",
            " (torch.Size([5, 1, 1])): \n",
            " tensor([[[0.6939]],\n",
            "\n",
            "        [[1.0390]],\n",
            "\n",
            "        [[0.9868]],\n",
            "\n",
            "        [[0.8438]],\n",
            "\n",
            "        [[0.8855]]])\n",
            "y \n",
            " (torch.Size([5, 3, 8])) = \n",
            " tensor([[[ 1.3220,  1.3247,  0.7165, -0.1477,  0.5050,  0.8536,  1.6299,\n",
            "           0.1022],\n",
            "         [-0.1058, -0.5010, -0.1832, -1.1037,  0.5474,  0.5198, -1.5231,\n",
            "          -1.6216],\n",
            "         [-0.1596, -1.1043,  0.5962,  0.1971, -0.8167,  1.1636,  0.1538,\n",
            "          -2.3652]],\n",
            "\n",
            "        [[ 0.3585,  0.1192,  0.7876, -0.2026,  0.4265,  0.4333,  0.5061,\n",
            "           0.9287],\n",
            "         [-1.0264,  0.1665,  0.0489, -0.2540, -0.5455,  1.6852,  1.0158,\n",
            "          -0.8297],\n",
            "         [-1.9076, -0.3157,  2.7500, -1.0177, -0.0308, -1.1284, -1.2613,\n",
            "          -0.7067]],\n",
            "\n",
            "        [[-0.0988,  0.7863,  0.3666, -0.6350,  0.1857,  2.5720,  0.7338,\n",
            "           0.6262],\n",
            "         [-0.2734, -0.4580,  0.1471, -0.9706, -1.0800, -1.8213, -0.1121,\n",
            "          -0.9865],\n",
            "         [-0.2992,  0.2657, -0.7804,  1.1609,  2.3047, -0.1871, -0.6085,\n",
            "          -0.8381]],\n",
            "\n",
            "        [[-1.6408, -1.0918, -2.0388,  0.0745,  1.0162, -0.5101,  0.1806,\n",
            "           0.5862],\n",
            "         [ 1.4443,  0.2233,  0.1779, -1.4237,  0.2600,  1.2125,  0.0518,\n",
            "           1.0654],\n",
            "         [ 0.8388, -0.0909,  1.8570, -1.3088, -0.4100,  0.2709, -1.0873,\n",
            "           0.3426]],\n",
            "\n",
            "        [[-0.0133, -0.1455,  0.7725,  0.8952,  0.5611,  1.2687, -1.5339,\n",
            "          -0.0458],\n",
            "         [-1.2898,  0.5551, -0.6848, -0.0698,  1.8310, -0.2589, -1.3170,\n",
            "          -0.1798],\n",
            "         [-1.2241, -0.4206,  2.1576, -0.7321, -0.2721,  0.4762,  1.1479,\n",
            "          -1.4777]]])\n",
            "out \n",
            " (torch.Size([5, 3, 8])) = \n",
            " tensor([[[ 1.3220,  1.3247,  0.7165, -0.1477,  0.5050,  0.8536,  1.6299,\n",
            "           0.1022],\n",
            "         [-0.1058, -0.5010, -0.1832, -1.1037,  0.5474,  0.5198, -1.5231,\n",
            "          -1.6216],\n",
            "         [-0.1596, -1.1043,  0.5962,  0.1971, -0.8167,  1.1636,  0.1538,\n",
            "          -2.3652]],\n",
            "\n",
            "        [[ 0.3585,  0.1192,  0.7876, -0.2026,  0.4265,  0.4333,  0.5061,\n",
            "           0.9287],\n",
            "         [-1.0264,  0.1665,  0.0489, -0.2540, -0.5455,  1.6852,  1.0158,\n",
            "          -0.8297],\n",
            "         [-1.9076, -0.3157,  2.7500, -1.0177, -0.0308, -1.1284, -1.2613,\n",
            "          -0.7067]],\n",
            "\n",
            "        [[-0.0988,  0.7863,  0.3666, -0.6350,  0.1857,  2.5720,  0.7338,\n",
            "           0.6262],\n",
            "         [-0.2734, -0.4580,  0.1471, -0.9706, -1.0800, -1.8213, -0.1121,\n",
            "          -0.9865],\n",
            "         [-0.2992,  0.2657, -0.7804,  1.1609,  2.3047, -0.1871, -0.6085,\n",
            "          -0.8381]],\n",
            "\n",
            "        [[-1.6408, -1.0918, -2.0388,  0.0745,  1.0162, -0.5101,  0.1806,\n",
            "           0.5862],\n",
            "         [ 1.4443,  0.2233,  0.1779, -1.4237,  0.2600,  1.2125,  0.0518,\n",
            "           1.0654],\n",
            "         [ 0.8388, -0.0909,  1.8570, -1.3088, -0.4100,  0.2709, -1.0873,\n",
            "           0.3426]],\n",
            "\n",
            "        [[-0.0133, -0.1455,  0.7725,  0.8952,  0.5611,  1.2687, -1.5339,\n",
            "          -0.0458],\n",
            "         [-1.2898,  0.5551, -0.6848, -0.0698,  1.8310, -0.2589, -1.3170,\n",
            "          -0.1798],\n",
            "         [-1.2241, -0.4206,  2.1576, -0.7321, -0.2721,  0.4762,  1.1479,\n",
            "          -1.4777]]], grad_fn=<AddBackward0>)\n"
          ]
        }
      ]
    }
  ]
}